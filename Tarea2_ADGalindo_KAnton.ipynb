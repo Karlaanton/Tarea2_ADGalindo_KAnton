{
 "cells": [
  {
   "cell_type": "markdown",
   "metadata": {},
   "source": [
    "<img style=\"float: left; margin: 30px 15px 15px 15px;\" src=\"https://pngimage.net/wp-content/uploads/2018/06/logo-iteso-png-5.png\" width=\"300\" height=\"500\" /> \n",
    "    \n",
    "    \n",
    "### <font color='navy'> Simulación de procesos financieros. \n",
    "\n",
    "**Nombres:** Ariadna Desirée Galindo Marín & Karla Antón.\n",
    "\n",
    "**Fecha:** 09 de septiembre del 2020.\n",
    "\n",
    "**Expediente** : 718272, 714572.\n",
    "**Profesor:** Oscar David Jaramillo Zuluaga.\n",
    "\n",
    "# Tarea 2 b: Clase 4"
   ]
  },
  {
   "cell_type": "markdown",
   "metadata": {},
   "source": [
    "### Tarea:\n",
    "\n",
    "https://github.com/ariadnagalindom/Tarea2_ADGalindo_KAnton\n"
   ]
  },
  {
   "cell_type": "markdown",
   "metadata": {},
   "source": [
    "### Ejercicio 1:\n",
    "Imagine una rutina contable utilizada en una librería. Funciona en una lista con sublistas, que se ven así:\n",
    "\n",
    "|Order number|Book Title and Author|Quantity|Price per Item|\n",
    "|-|-|-|-|\n",
    "|34587|Learning Python,Mark Lutz| 4| 40.95| \n",
    "|98762|Programming Python,Mark Lutz|5|56.80| \n",
    "|77226|Head First Python,Paul Barry|3|32.95|\n",
    "|88112|Einführung in Python3, Bernd Klein| 3|24.99|\n",
    "           \n",
    "Escriba un programa en Python, que devuelve una lista con tuplas de tamaño 2. Cada tupla consiste en el número de pedido y el costo total del pedido. El producto debe aumentarse en 10€ si el valor de la orden es inferior a 100,00 €. \n",
    "Escribe un programa Python usando unicamente las funciones **lambda y map**.\n",
    "\n",
    "`orders = [ [\"34587\", \"Learning Python, Mark Lutz\", 4, 40.95], \n",
    "           [\"98762\", \"Programming Python, Mark Lutz\", 5, 56.80], \n",
    "           [\"77226\", \"Head First Python, Paul Barry\", 3,32.95],\n",
    "           [\"88112\", \"Einführung in Python3, Bernd Klein\", 3, 24.99]]`"
   ]
  },
  {
   "cell_type": "code",
   "execution_count": 1,
   "metadata": {},
   "outputs": [
    {
     "data": {
      "text/plain": [
       "[('34587', 163.8),\n",
       " ('98762', 284.0),\n",
       " ('77226', 108.85000000000001),\n",
       " ('88112', 84.97)]"
      ]
     },
     "execution_count": 1,
     "metadata": {},
     "output_type": "execute_result"
    }
   ],
   "source": [
    "#solución Ariadna\n",
    "orders = [ [\"34587\", \"Learning Python, Mark Lutz\", 4, 40.95], \n",
    "           [\"98762\", \"Programming Python, Mark Lutz\", 5, 56.80], \n",
    "           [\"77226\", \"Head First Python, Paul Barry\", 3,32.95],\n",
    "           [\"88112\", \"Einführung in Python3, Bernd Klein\", 3, 24.99]]\n",
    "sol1=list(map(lambda x:(x[0],x[2]*x[3])if x[2]*x[3]>=100 else (x[0],x[2]*x[3]+10),orders))\n",
    "sol1"
   ]
  },
  {
   "cell_type": "markdown",
   "metadata": {},
   "source": [
    "### Respuesta:\n",
    "\n",
    "Para las primeras dos ordenes no superan la condición y por lo tanto no es necesario añadir +10, pero para las otras si es necesario. "
   ]
  },
  {
   "cell_type": "code",
   "execution_count": 2,
   "metadata": {},
   "outputs": [
    {
     "data": {
      "text/plain": [
       "[('34587', 163.8),\n",
       " ('98762', 284.0),\n",
       " ('77226', 108.85000000000001),\n",
       " ('88112', 84.97)]"
      ]
     },
     "execution_count": 2,
     "metadata": {},
     "output_type": "execute_result"
    }
   ],
   "source": [
    "#solución Karla\n",
    "orders = [ [\"34587\", \"Learning Python, Mark Lutz\", 4, 40.95], \n",
    "           [\"98762\", \"Programming Python, Mark Lutz\", 5, 56.80], \n",
    "           [\"77226\", \"Head First Python, Paul Barry\", 3,32.95],\n",
    "           [\"88112\", \"Einführung in Python3, Bernd Klein\", 3, 24.99]]\n",
    "\n",
    "S1 = list(map(lambda x:(x[0],x[2] * x[3])if x[2]*x[3] >= 100 else(x[0], x[2] * x[3] + 10), orders))\n",
    "S1"
   ]
  },
  {
   "cell_type": "markdown",
   "metadata": {},
   "source": [
    "### Respuesta:"
   ]
  },
  {
   "cell_type": "markdown",
   "metadata": {},
   "source": [
    "### Ejercicio 2:\n",
    "La misma librería, pero esta vez trabajamos en una lista diferente. Las sublistas de nuestras listas se ven así: \n",
    "[número de orden, (número de artículo, cantidad, precio por unidad), ... (número de artículo, cantidad, precio por unidad)] \n",
    "\n",
    "`orders = [[1, (\"5464\", 4, 9.99), (\"8274\",18,12.99), (\"9744\", 9, 44.95)], \n",
    "\t       [2, (\"5464\", 9, 9.99), (\"9744\", 9, 44.95)],\n",
    "\t       [3, (\"5464\", 9, 9.99), (\"88112\", 11, 24.99)],\n",
    "           [4, (\"8732\", 7, 11.99), (\"7733\",11,18.99), (\"88112\", 5, 39.95)] ]`\n",
    "\n",
    "Escriba un programa que devuelva una lista de dos tuplas que tengan la información de (número de pedido, cantidad total de pedido). Utilice la función `Reduce`. Recuerde el precio del pedido del producto debe aumentarse en 10€ si el valor de la orden es inferior a 100,00 €.\n"
   ]
  },
  {
   "cell_type": "code",
   "execution_count": 3,
   "metadata": {},
   "outputs": [
    {
     "name": "stdout",
     "output_type": "stream",
     "text": [
      "[[1, 678.3299999999999], [2, 494.46000000000004], [3, 364.79999999999995], [4, 492.57]]\n"
     ]
    }
   ],
   "source": [
    "#solución Ariadna\n",
    "from functools import reduce\n",
    "\n",
    "orders = [[1, (\"5464\", 4, 9.99), (\"8274\",18,12.99), (\"9744\", 9, 44.95)], \n",
    "           [2, (\"5464\", 9, 9.99), (\"9744\", 9, 44.95)],\n",
    "           [3, (\"5464\", 9, 9.99), (\"88112\", 11, 24.99)],\n",
    "           [4, (\"8732\", 7, 11.99), (\"7733\",11,18.99), (\"88112\", 5, 39.95)]]\n",
    "\n",
    "sol2 = list(map(lambda x: [x[0]] + list(map(lambda y: y[1]*y[2], x[1:])), orders))\n",
    "sol2 = list(map(lambda x: [x[0]] + [reduce(lambda a,b: a + b, x[1:])], sol2))\n",
    "sol2 = list(map(lambda x: x if (x[1] >= 100) else (x[0], x[1] + 10), sol2))\n",
    "\n",
    "print(sol2)"
   ]
  },
  {
   "cell_type": "markdown",
   "metadata": {},
   "source": [
    "### Respuesta:"
   ]
  },
  {
   "cell_type": "code",
   "execution_count": 1,
   "metadata": {},
   "outputs": [
    {
     "name": "stdout",
     "output_type": "stream",
     "text": [
      "[[1, 678.3299999999999], [2, 494.46000000000004], [3, 364.79999999999995], [4, 492.57]]\n"
     ]
    }
   ],
   "source": [
    "#solución Karla\n",
    "from functools import reduce\n",
    "orders = [[1, (\"5464\", 4, 9.99), (\"8274\",18,12.99), (\"9744\", 9, 44.95)], \n",
    "           [2, (\"5464\", 9, 9.99), (\"9744\", 9, 44.95)],\n",
    "           [3, (\"5464\", 9, 9.99), (\"88112\", 11, 24.99)],\n",
    "           [4, (\"8732\", 7, 11.99), (\"7733\",11,18.99), (\"88112\", 5, 39.95)]]\n",
    "S2 = list(map(lambda x: [x[0]] + list(map(lambda y: y[1]*y[2], x[1:])), orders))\n",
    "S2 = list(map(lambda x: [x[0]] + [reduce(lambda a,b: a + b, x[1:])], S2))\n",
    "S2 = list(map(lambda x: x if (x[1] >= 100) else (x[0], x[1] + 10), S2))\n",
    "print(S2)"
   ]
  },
  {
   "cell_type": "markdown",
   "metadata": {},
   "source": [
    "### Respuesta:"
   ]
  },
  {
   "cell_type": "markdown",
   "metadata": {},
   "source": [
    "### Ejercicio 3:\n",
    "\n",
    "Resolver lo ejercicios anteriores utilizando pandas (DataFrame)"
   ]
  },
  {
   "cell_type": "code",
   "execution_count": 3,
   "metadata": {},
   "outputs": [
    {
     "name": "stdout",
     "output_type": "stream",
     "text": [
      "        0 Order number\n",
      "0   163.8        34587\n",
      "1     284        98762\n",
      "2  108.85        77226\n",
      "3   84.97        88112\n",
      "[0    678.33\n",
      "1    494.46\n",
      "2    364.80\n",
      "3    492.57\n",
      "dtype: float64]\n"
     ]
    }
   ],
   "source": [
    "#Solución Ariadna\n",
    "import pandas as pd\n",
    "#ejericio 1\n",
    "orders = [ [\"34587\", \"Learning Python, Mark Lutz\", 4, 40.95], \n",
    "           [\"98762\", \"Programming Python, Mark Lutz\", 5, 56.80], \n",
    "           [\"77226\", \"Head First Python, Paul Barry\", 3,32.95],\n",
    "           [\"88112\", \"Einführung in Python3, Bernd Klein\", 3, 24.99]]\n",
    "ej1=pd.DataFrame(columns=[\"Order number\",\"Book Title and Author\",\"Quantity\",\"Price per Item\"], data=orders)\n",
    "sol3_1=[(ej1.iloc[:,-2]*ej1.iloc[:,-1]).apply(lambda x: x if x>=100 else (x+10))]\n",
    "#sol3_1=sol3_1.append(ej1.iloc[:,0])\n",
    "sol3_1=pd.DataFrame(sol3_1)\n",
    "sol3_1=sol3_1.append(ej1.iloc[:,0])\n",
    "print(sol3_1.T)\n",
    "\n",
    "#ejercicio 2\n",
    "orders2 = [[1, \"5464\", 4, 9.99, \"8274\",18,12.99, \"9744\", 9, 44.95], \n",
    "           [2, \"5464\", 9, 9.99, \"9744\", 9, 44.95, 0,0,0],\n",
    "           [3, \"5464\", 9, 9.99, \"88112\", 11, 24.99, 0,0,0],\n",
    "           [4, \"8732\", 7, 11.99, \"7733\",11,18.99, \"88112\", 5, 39.95]]\n",
    "ej2=pd.DataFrame(orders2)\n",
    "\n",
    "sol3_2= [((ej2.iloc[:,2]*ej2.iloc[:,3])+(ej2.iloc[:,5]*ej2.iloc[:,6])+(ej2.iloc[:,8]*ej2.iloc[:,9])).apply(lambda x: x if x>=100 else (x+10))]\n",
    "print(sol3_2)"
   ]
  },
  {
   "cell_type": "code",
   "execution_count": 21,
   "metadata": {},
   "outputs": [
    {
     "data": {
      "text/html": [
       "<div>\n",
       "<style scoped>\n",
       "    .dataframe tbody tr th:only-of-type {\n",
       "        vertical-align: middle;\n",
       "    }\n",
       "\n",
       "    .dataframe tbody tr th {\n",
       "        vertical-align: top;\n",
       "    }\n",
       "\n",
       "    .dataframe thead th {\n",
       "        text-align: right;\n",
       "    }\n",
       "</style>\n",
       "<table border=\"1\" class=\"dataframe\">\n",
       "  <thead>\n",
       "    <tr style=\"text-align: right;\">\n",
       "      <th></th>\n",
       "      <th>Order Number</th>\n",
       "      <th>Total Cost</th>\n",
       "    </tr>\n",
       "  </thead>\n",
       "  <tbody>\n",
       "    <tr>\n",
       "      <th>0</th>\n",
       "      <td>34587</td>\n",
       "      <td>163.80</td>\n",
       "    </tr>\n",
       "    <tr>\n",
       "      <th>1</th>\n",
       "      <td>98762</td>\n",
       "      <td>284.00</td>\n",
       "    </tr>\n",
       "    <tr>\n",
       "      <th>2</th>\n",
       "      <td>77226</td>\n",
       "      <td>108.85</td>\n",
       "    </tr>\n",
       "    <tr>\n",
       "      <th>3</th>\n",
       "      <td>88112</td>\n",
       "      <td>84.97</td>\n",
       "    </tr>\n",
       "  </tbody>\n",
       "</table>\n",
       "</div>"
      ],
      "text/plain": [
       "  Order Number  Total Cost\n",
       "0        34587      163.80\n",
       "1        98762      284.00\n",
       "2        77226      108.85\n",
       "3        88112       84.97"
      ]
     },
     "execution_count": 21,
     "metadata": {},
     "output_type": "execute_result"
    }
   ],
   "source": [
    "### Solución Karla\n",
    "#ejericio 1\n",
    "import pandas as pd\n",
    "orders = [ [\"34587\", \"Learning Python, Mark Lutz\", 4, 40.95], \n",
    "           [\"98762\", \"Programming Python, Mark Lutz\", 5, 56.80], \n",
    "           [\"77226\", \"Head First Python, Paul Barry\", 3,32.95],\n",
    "           [\"88112\", \"Einführung in Python3, Bernd Klein\", 3, 24.99]]\n",
    "S3_1 = list(map(lambda t:[t[0],t[2]*t[3] if (t[2]*t[3] > 100) else t[2]*t[3]+10], orders))\n",
    "S3_1 = pd.DataFrame(S3_1)\n",
    "S3_1.columns = ['Order Number', 'Total Cost']\n",
    "S3_1"
   ]
  },
  {
   "cell_type": "code",
   "execution_count": 22,
   "metadata": {},
   "outputs": [
    {
     "data": {
      "text/html": [
       "<div>\n",
       "<style scoped>\n",
       "    .dataframe tbody tr th:only-of-type {\n",
       "        vertical-align: middle;\n",
       "    }\n",
       "\n",
       "    .dataframe tbody tr th {\n",
       "        vertical-align: top;\n",
       "    }\n",
       "\n",
       "    .dataframe thead th {\n",
       "        text-align: right;\n",
       "    }\n",
       "</style>\n",
       "<table border=\"1\" class=\"dataframe\">\n",
       "  <thead>\n",
       "    <tr style=\"text-align: right;\">\n",
       "      <th></th>\n",
       "      <th>Order Number</th>\n",
       "      <th>Total Cost</th>\n",
       "    </tr>\n",
       "  </thead>\n",
       "  <tbody>\n",
       "    <tr>\n",
       "      <th>0</th>\n",
       "      <td>1</td>\n",
       "      <td>688.33</td>\n",
       "    </tr>\n",
       "    <tr>\n",
       "      <th>1</th>\n",
       "      <td>2</td>\n",
       "      <td>504.46</td>\n",
       "    </tr>\n",
       "    <tr>\n",
       "      <th>2</th>\n",
       "      <td>3</td>\n",
       "      <td>374.80</td>\n",
       "    </tr>\n",
       "    <tr>\n",
       "      <th>3</th>\n",
       "      <td>4</td>\n",
       "      <td>502.57</td>\n",
       "    </tr>\n",
       "  </tbody>\n",
       "</table>\n",
       "</div>"
      ],
      "text/plain": [
       "   Order Number  Total Cost\n",
       "0             1      688.33\n",
       "1             2      504.46\n",
       "2             3      374.80\n",
       "3             4      502.57"
      ]
     },
     "execution_count": 22,
     "metadata": {},
     "output_type": "execute_result"
    }
   ],
   "source": [
    "#ejercicio 2\n",
    "orders = [[1, (\"5464\", 4, 9.99), (\"8274\",18,12.99), (\"9744\", 9, 44.95)], \n",
    "          [2, (\"5464\", 9, 9.99), (\"9744\", 9, 44.95)],\n",
    "          [3, (\"5464\", 9, 9.99), (\"88112\", 11, 24.99)],\n",
    "          [4, (\"8732\", 7, 11.99), (\"7733\",11,18.99), (\"88112\", 5, 39.95)] ]\n",
    "\n",
    "mult=lambda t:t[1]*t[2] if (t[1]*t[2] > 100) else t[1]*t[2]+10\n",
    "suma = lambda a,b: a + b\n",
    "S3_2= list(map(lambda x:[x[0],reduce(suma,(list(map(mult,x[1:]))))],orders))\n",
    "S3_2 = pd.DataFrame(S3_2)\n",
    "S3_2.columns = ['Order Number', 'Total Cost']\n",
    "S3_2"
   ]
  },
  {
   "cell_type": "markdown",
   "metadata": {},
   "source": [
    "### Ejercicio 4. \n",
    "Use filter to eliminate all words that are shorter than 4 letters from a list of words\n",
    "`list='the notion of a lambda function goes all the way back to the origin of computer science'`\n"
   ]
  },
  {
   "cell_type": "code",
   "execution_count": 9,
   "metadata": {},
   "outputs": [
    {
     "data": {
      "text/plain": [
       "['notion',\n",
       " 'lambda',\n",
       " 'function',\n",
       " 'goes',\n",
       " 'back',\n",
       " 'origin',\n",
       " 'computer',\n",
       " 'science']"
      ]
     },
     "execution_count": 9,
     "metadata": {},
     "output_type": "execute_result"
    }
   ],
   "source": [
    "#solución Ariadna\n",
    "lista='the notion of a lambda function goes all the way back to the origin of computer science'\n",
    "lista=lista.split()\n",
    "sol3=list(filter(lambda word: len(word)>=4, lista))\n",
    "sol3\n",
    "#list.split() separa la lista en palabras\n",
    "#str(len(word))cuenta las letras de cada palabra"
   ]
  },
  {
   "cell_type": "markdown",
   "metadata": {},
   "source": [
    "### Respuesta:"
   ]
  },
  {
   "cell_type": "code",
   "execution_count": 7,
   "metadata": {},
   "outputs": [
    {
     "data": {
      "text/plain": [
       "['notion',\n",
       " 'lambda',\n",
       " 'function',\n",
       " 'goes',\n",
       " 'back',\n",
       " 'origin',\n",
       " 'computer',\n",
       " 'science']"
      ]
     },
     "execution_count": 7,
     "metadata": {},
     "output_type": "execute_result"
    }
   ],
   "source": [
    "#solución Karla\n",
    "lista = \"the notion of a lambda function goes all the way back to the origin of computer science\"\n",
    "lista = lista.split()\n",
    "res= list(filter(lambda x: len(x) >= 4,lista))\n",
    "res"
   ]
  },
  {
   "cell_type": "markdown",
   "metadata": {},
   "source": [
    "### Respuesta:"
   ]
  },
  {
   "cell_type": "markdown",
   "metadata": {},
   "source": [
    "### Ejercicio 5. \n",
    "Use filter to determine the percentage of Fahrenheit temperatures in a list are within the range 32 to 80\n"
   ]
  },
  {
   "cell_type": "code",
   "execution_count": 41,
   "metadata": {},
   "outputs": [
    {
     "name": "stdout",
     "output_type": "stream",
     "text": [
      "[ 35.97387961  99.13294268  92.6178302   99.69549478  63.21119535\n",
      "  73.90387697  95.50028838  99.21476553  36.98251238 101.45813729\n",
      " 100.5917418   89.38159435  89.52156589  83.8084752   28.37990868\n",
      "  68.75395211  45.86132067  36.58307493  56.32208365  33.96219302\n",
      "  45.29071318  74.86289938  66.51091383  88.19316186  94.26635864\n",
      "  46.83131624 109.60744472 109.68427993  44.55796499  92.84146259]\n"
     ]
    }
   ],
   "source": [
    "#solución Ariadna\n",
    "import numpy as np\n",
    "np.random.seed(55555)\n",
    "temperatures = np.random.uniform(25,110,30)\n",
    "print(temperatures)\n",
    "sol4=list(filter(lambda x: (x>=32 and x<=80),temper))"
   ]
  },
  {
   "cell_type": "markdown",
   "metadata": {},
   "source": [
    "### Respuesta:"
   ]
  },
  {
   "cell_type": "code",
   "execution_count": 25,
   "metadata": {},
   "outputs": [
    {
     "name": "stdout",
     "output_type": "stream",
     "text": [
      "[ 35.97387961  99.13294268  92.6178302   99.69549478  63.21119535\n",
      "  73.90387697  95.50028838  99.21476553  36.98251238 101.45813729\n",
      " 100.5917418   89.38159435  89.52156589  83.8084752   28.37990868\n",
      "  68.75395211  45.86132067  36.58307493  56.32208365  33.96219302\n",
      "  45.29071318  74.86289938  66.51091383  88.19316186  94.26635864\n",
      "  46.83131624 109.60744472 109.68427993  44.55796499  92.84146259]\n"
     ]
    }
   ],
   "source": [
    "#solución Karla\n",
    "import numpy as np\n",
    "np.random.seed(55555)\n",
    "temp = np.random.uniform(25,110,30)\n",
    "print(temp)\n",
    "S4=list(filter(lambda x: (x>=32 and x<=80),temp))"
   ]
  },
  {
   "cell_type": "markdown",
   "metadata": {},
   "source": [
    "### Respuesta:"
   ]
  },
  {
   "cell_type": "markdown",
   "metadata": {},
   "source": [
    "### Ejercicio 6. \n",
    "Use reduce to find the lower left corner (minimum x and minimum y value) for a list of point locations\n",
    "> **Hint**: Explore the command `np.minimum.reduce` [link](https://docs.scipy.org/doc/numpy/reference/generated/numpy.ufunc.reduce.html)"
   ]
  },
  {
   "cell_type": "code",
   "execution_count": 4,
   "metadata": {},
   "outputs": [
    {
     "name": "stdout",
     "output_type": "stream",
     "text": [
      "[[17 97]\n",
      " [22 33]\n",
      " [37 46]\n",
      " [57 28]\n",
      " [11 25]\n",
      " [14  2]\n",
      " [74 16]\n",
      " [12 37]\n",
      " [35 21]\n",
      " [66 65]\n",
      " [86 58]\n",
      " [67 81]\n",
      " [ 0 48]\n",
      " [28 66]\n",
      " [76 22]\n",
      " [46 47]\n",
      " [64  7]\n",
      " [88 94]\n",
      " [65 13]\n",
      " [75 89]\n",
      " [23 17]\n",
      " [36 63]\n",
      " [62 36]\n",
      " [64 17]\n",
      " [18 19]\n",
      " [88 41]\n",
      " [21 49]\n",
      " [98 36]\n",
      " [81 73]\n",
      " [62 90]]\n"
     ]
    }
   ],
   "source": [
    "#solución Ariadna\n",
    "import numpy as np\n",
    "np.random.seed(55555)\n",
    "point_xy = np.random.randint(0,100,[30,2])\n",
    "print(point_xy)\n",
    "\n",
    "sol6=np.minimum.reduce(point_xy)"
   ]
  },
  {
   "cell_type": "code",
   "execution_count": 3,
   "metadata": {},
   "outputs": [
    {
     "name": "stdout",
     "output_type": "stream",
     "text": [
      "[0 2]\n"
     ]
    }
   ],
   "source": [
    "print(sol6)"
   ]
  },
  {
   "cell_type": "code",
   "execution_count": 9,
   "metadata": {},
   "outputs": [
    {
     "name": "stdout",
     "output_type": "stream",
     "text": [
      "[[17 97]\n",
      " [22 33]\n",
      " [37 46]\n",
      " [57 28]\n",
      " [11 25]\n",
      " [14  2]\n",
      " [74 16]\n",
      " [12 37]\n",
      " [35 21]\n",
      " [66 65]\n",
      " [86 58]\n",
      " [67 81]\n",
      " [ 0 48]\n",
      " [28 66]\n",
      " [76 22]\n",
      " [46 47]\n",
      " [64  7]\n",
      " [88 94]\n",
      " [65 13]\n",
      " [75 89]\n",
      " [23 17]\n",
      " [36 63]\n",
      " [62 36]\n",
      " [64 17]\n",
      " [18 19]\n",
      " [88 41]\n",
      " [21 49]\n",
      " [98 36]\n",
      " [81 73]\n",
      " [62 90]]\n"
     ]
    }
   ],
   "source": [
    "#solución Karla\n",
    "np.random.seed(55555)\n",
    "p_xy=np.random.randint(0,100,[30,2])\n",
    "print(p_xy)"
   ]
  },
  {
   "cell_type": "code",
   "execution_count": 11,
   "metadata": {},
   "outputs": [
    {
     "data": {
      "text/plain": [
       "array([0, 2])"
      ]
     },
     "execution_count": 11,
     "metadata": {},
     "output_type": "execute_result"
    }
   ],
   "source": [
    "np.minimum.reduce(p_xy)"
   ]
  },
  {
   "cell_type": "markdown",
   "metadata": {},
   "source": [
    "### Respuesta:"
   ]
  },
  {
   "cell_type": "markdown",
   "metadata": {},
   "source": [
    "## Conclusiones "
   ]
  },
  {
   "cell_type": "markdown",
   "metadata": {},
   "source": [
    "### Ariadna:\n",
    "\n",
    "Para esta tarea tuve que recordar y juntar cosas que he visto en todos los semestres anteriores, pero con la gran diferencia de que el código esta quedando bastante resumido. Me costó mucho trabajo realizar los ejercicios, pero espero que con la práctica logre entender más sobre estas funciones para optimizar el código, pero la que más me interesa entender y practicar por el momento es *lambda* porque nos ayuda a generar funciones como parte de un argumento. "
   ]
  },
  {
   "cell_type": "markdown",
   "metadata": {},
   "source": [
    "### Karla:\n",
    "\n",
    "En esta tarea pudimos observar que por medio de las funciones que tenemos disponibles logramos hacer nuestros códigos mucho más eficientes y fáciles de trabajar con ellos. Trabajar con estas funciones vistas en clase, nos permite la correcta manipulación ya sea de datos numéricos, cadenas de texto u otro tipo de fuentes de información. Es por ello que entender como funcionan es de gran importancia a la hora de generar nuestros códigos."
   ]
  }
 ],
 "metadata": {
  "kernelspec": {
   "display_name": "Python 3",
   "language": "python",
   "name": "python3"
  },
  "language_info": {
   "codemirror_mode": {
    "name": "ipython",
    "version": 3
   },
   "file_extension": ".py",
   "mimetype": "text/x-python",
   "name": "python",
   "nbconvert_exporter": "python",
   "pygments_lexer": "ipython3",
   "version": "3.6.5"
  }
 },
 "nbformat": 4,
 "nbformat_minor": 4
}
